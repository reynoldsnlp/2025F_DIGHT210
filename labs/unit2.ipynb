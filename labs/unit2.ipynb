{
 "cells": [
  {
   "cell_type": "markdown",
   "id": "53e0b462",
   "metadata": {},
   "source": [
    "# Unit 2 Lab: Budget Calculator with Functions & Text Analysis\n",
    "\n",
    "In this lab, you'll enhance your budget calculator from Unit 1 by using **functions** and **conditional logic**, plus create tools for analyzing and processing text data.\n",
    "\n",
    "## 🎯 What You'll Practice\n",
    "\n",
    "- **Functions** - Creating reusable code with `def`\n",
    "- **Conditional logic** - Making decisions with `if/elif/else`\n",
    "- **String methods** - Processing and analyzing text\n",
    "- **Code organization** - Breaking complex tasks into smaller functions\n",
    "\n",
    "## 📋 Lab Structure\n",
    "\n",
    "**Part 1:** Refactor your Unit 1 budget calculator using functions and conditionals  \n",
    "**Part 2:** Build text analysis tools using string methods and conditional logic\n",
    "\n",
    "Let's start by improving your budget calculator!"
   ]
  },
  {
   "cell_type": "markdown",
   "id": "2ca8533e",
   "metadata": {},
   "source": [
    "## Part 1: Enhanced Budget Calculator with Functions\n",
    "\n",
    "### Section A: Create Budget Functions\n",
    "\n",
    "Take your budget code from Unit 1 and organize it into reusable functions. Some functions should print results directly, while others should return values for further processing.\n",
    "\n",
    "**Functions to create:**\n",
    "1. `calculate_total_income(salary, freelance, other)` - Returns total income\n",
    "2. `calculate_total_expenses(rent, groceries, utilities, transport, entertainment)` - Returns total expenses\n",
    "3. `calculate_monthly_savings(income, expenses)` - Returns monthly savings\n",
    "4. `display_financial_summary(income, expenses, savings)` - Prints a formatted summary (no return value)"
   ]
  },
  {
   "cell_type": "code",
   "execution_count": null,
   "id": "cf1ec836",
   "metadata": {},
   "outputs": [],
   "source": [
    "# TODO: Define your budget functions here\n",
    "# Remember: Some functions print things, others return values\n"
   ]
  },
  {
   "cell_type": "markdown",
   "id": "39458f04",
   "metadata": {},
   "source": [
    "### Section B: Budget Analysis with Conditionals\n",
    "\n",
    "Create functions that use conditional logic to provide intelligent feedback about your financial situation.\n",
    "\n",
    "**Functions to create:**\n",
    "1. `get_savings_rating(savings_amount)` - Returns \"Excellent\" (>$1000), \"Good\" (>$500), \"Fair\" (>$100), or \"Poor\"\n",
    "2. `analyze_expense_ratio(expenses, income)` - Prints budget advice based on expense-to-income ratio\n",
    "\n",
    "Test all your functions with realistic budget numbers."
   ]
  },
  {
   "cell_type": "code",
   "execution_count": null,
   "id": "a823c72f",
   "metadata": {},
   "outputs": [],
   "source": [
    "# TODO: Write your conditional analysis functions here\n",
    "# TODO: Test them with your budget data\n"
   ]
  },
  {
   "cell_type": "markdown",
   "id": "5b232584",
   "metadata": {},
   "source": [
    "### Section C: Goal Planning with Functions\n",
    "\n",
    "Create a comprehensive goal planning system using functions and conditionals.\n",
    "\n",
    "**Function to create:**\n",
    "- `plan_financial_goal(goal_name, goal_amount, monthly_savings, show_details=True)`\n",
    "\n",
    "This function should:\n",
    "- Calculate months needed to reach the goal\n",
    "- Use conditionals to provide different advice based on timeline:\n",
    "  - Less than 12 months: \"Great! Short-term goal\"\n",
    "  - 12-36 months: \"Good medium-term planning\"\n",
    "  - More than 36 months: \"Long-term goal - consider increasing savings\"\n",
    "- If `show_details` is True, print a detailed breakdown of the values calculated in your function.\n",
    "- Return the number of months needed\n",
    "\n",
    "Test with multiple financial goals!"
   ]
  },
  {
   "cell_type": "code",
   "execution_count": null,
   "id": "efad9426",
   "metadata": {},
   "outputs": [],
   "source": [
    "# TODO: Create the goal planning function\n",
    "# TODO: Test with at least 3 different financial goals\n"
   ]
  },
  {
   "cell_type": "markdown",
   "id": "d2c05400",
   "metadata": {},
   "source": [
    "## Part 2: Text Analysis Toolkit\n",
    "\n",
    "Now let's build a comprehensive text analysis system using string methods, functions, and conditional logic.\n",
    "\n",
    "### Section A: Basic Text Processing Functions\n",
    "\n",
    "Create functions that clean and analyze text using string methods.\n",
    "\n",
    "**Functions to create:**\n",
    "1. `clean_text(text)` - Strip whitespace, normalize case - RETURNS cleaned text\n",
    "3. `display_text_info(text)` - PRINTS formatted statistics about the text (character_count, word_count, sentence_count)"
   ]
  },
  {
   "cell_type": "code",
   "execution_count": null,
   "id": "c75156b6",
   "metadata": {},
   "outputs": [],
   "source": [
    "# TODO: Create basic text processing functions\n",
    "# TODO: Test with sample text: \"  Hello World! This is Python Programming.  \"\n"
   ]
  },
  {
   "cell_type": "markdown",
   "id": "5d997b75",
   "metadata": {},
   "source": [
    "### Section C: Email and Username Processor\n",
    "\n",
    "Create functions that process and validate common text inputs using string methods and conditionals.\n",
    "\n",
    "**Functions to create:**\n",
    "1. `validate_email(email)` - Returns True/False, checks for @ and proper domain\n",
    "2. `clean_email_list(email_string)` - Takes semicolon-separated emails, returns clean list\n",
    "3. `generate_username(full_name, year)` - Creates username from name + year\n",
    "\n",
    "Use string methods like `split()`, `join()`, `replace()`, `strip()`, `lower()`, etc."
   ]
  },
  {
   "cell_type": "code",
   "execution_count": null,
   "id": "16d7b3d2",
   "metadata": {},
   "outputs": [],
   "source": [
    "# TODO: Create email and username processing functions\n",
    "# TODO: Test with: \"John Smith\", \"user@test.com; mary@WORK.NET ; bob@school.edu\"\n"
   ]
  },
  {
   "cell_type": "markdown",
   "id": "d3f2fbcd",
   "metadata": {},
   "source": [
    "## 📝 Reflection Questions\n",
    "\n",
    "After completing this lab, reflect on your learning:\n",
    "\n",
    "1. **Function Benefits:** How did organizing your code into functions make it easier to work with? What specific advantages did you notice?\n",
    "\n",
    "2. **Conditional Logic:** Give an example of how conditional logic made your budget or text analysis more intelligent and helpful.\n",
    "\n",
    "3. **String Methods:** Which string methods did you find most useful? How did they help solve real-world text processing problems?\n",
    "\n",
    "4. **Code Reusability:** How were you able to reuse functions across different parts of the lab? What made some functions more reusable than others?\n",
    "\n",
    "5. **Problem Solving:** What was the most challenging part of this lab, and how did you approach solving it?\n",
    "\n",
    "Write your reflections below (you do not need to answer every question, just the ones that you have something meaningful to say.):"
   ]
  },
  {
   "cell_type": "markdown",
   "id": "6c68c82b",
   "metadata": {},
   "source": [
    "### My Reflections:\n",
    "\n",
    "*(Write your thoughts about functions, conditionals, string methods, and code organization here)*\n"
   ]
  },
  {
   "cell_type": "markdown",
   "id": "06b8b5b5",
   "metadata": {},
   "source": [
    "### Questions\n",
    "\n",
    "*(Do you have any questions about these topics? Write them down here!)"
   ]
  }
 ],
 "metadata": {
  "language_info": {
   "name": "python"
  }
 },
 "nbformat": 4,
 "nbformat_minor": 5
}
