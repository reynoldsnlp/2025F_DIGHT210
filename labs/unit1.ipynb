{
 "cells": [
  {
   "cell_type": "markdown",
   "id": "b502987b",
   "metadata": {},
   "source": [
    "# Unit 1 Lab: Personal Budget Calculator\n",
    "\n",
    "In this lab, you'll create a simple budget calculator to practice the fundamentals you've learned:\n",
    "\n",
    "- **Comments** and documentation\n",
    "- **Variables** and descriptive naming\n",
    "- **Math operators** (+, -, *, /, %)\n",
    "- **Print statements** for output\n",
    "- **Assignment operators** (+=, -=)\n",
    "\n",
    "## 🎯 Your Task\n",
    "\n",
    "Create a program that calculates monthly savings and financial goals using realistic budget numbers.\n",
    "\n",
    "## 📋 Requirements\n",
    "\n",
    "1. Use comments to document your code\n",
    "2. Create variables with descriptive names\n",
    "3. Perform calculations using math operators\n",
    "4. Display results with print statements\n",
    "5. Show what-if scenarios using assignment operators\n",
    "\n",
    "Work through each section below. Run your code after each part to test it!"
   ]
  },
  {
   "cell_type": "markdown",
   "id": "e0756f4f",
   "metadata": {},
   "source": [
    "## Part 1: Income and Expense Variables\n",
    "\n",
    "Create variables for your monthly finances. Use realistic values and descriptive variable names.\n",
    "\n",
    "**What you need to create:**\n",
    "- Variables for different income sources (salary, freelance work, etc.)\n",
    "- Variables for major expense categories (rent, groceries, utilities, transportation, entertainment)\n",
    "- A header for your budget report\n",
    "- Print statements to display your income sources\n",
    "\n",
    "Use comments to explain what each variable represents."
   ]
  },
  {
   "cell_type": "code",
   "execution_count": null,
   "id": "0c53246d",
   "metadata": {},
   "outputs": [],
   "source": [
    "# TODO: Write your code for Part 1 here\n"
   ]
  },
  {
   "cell_type": "markdown",
   "id": "6983f995",
   "metadata": {},
   "source": [
    "## Part 2: Calculate Totals and Savings\n",
    "\n",
    "Now calculate the big picture numbers:\n",
    "\n",
    "**What to calculate:**\n",
    "- Total monthly income (add up all income sources)\n",
    "- Total monthly expenses (add up all expense categories) \n",
    "- Monthly savings (income minus expenses)\n",
    "- Savings as a percentage of income\n",
    "\n",
    "Display all results with appropriate labels."
   ]
  },
  {
   "cell_type": "code",
   "execution_count": null,
   "id": "a3e4c065",
   "metadata": {},
   "outputs": [],
   "source": [
    "# TODO: Write your code for Part 2 here\n"
   ]
  },
  {
   "cell_type": "markdown",
   "id": "c987193f",
   "metadata": {},
   "source": [
    "## Part 3: Financial Goals\n",
    "\n",
    "Calculate how long it would take to reach different savings goals:\n",
    "\n",
    "**Goals to calculate:**\n",
    "- Emergency fund (6 months of expenses)\n",
    "- Vacation fund ($2,500)\n",
    "- Car down payment ($5,000)\n",
    "\n",
    "For each goal, calculate how many months of savings it would take to reach it."
   ]
  },
  {
   "cell_type": "code",
   "execution_count": null,
   "id": "6bc58fc6",
   "metadata": {},
   "outputs": [],
   "source": [
    "# TODO: Write your code for Part 3 here\n"
   ]
  },
  {
   "cell_type": "markdown",
   "id": "9f27bd71",
   "metadata": {},
   "source": [
    "## Part 4: What-If Scenarios\n",
    "\n",
    "Explore how changes affect your budget using assignment operators:\n",
    "\n",
    "**Scenario 1:** What if you got a $200 raise? Use `+=` to increase your salary, then recalculate and show the difference in monthly savings.\n",
    "\n",
    "**Scenario 2:** What if you reduced one expense category by $50? Use `-=` to decrease an expense, then show how much faster you could reach a financial goal.\n",
    "\n",
    "Remember to store original values so you can reset them between scenarios!"
   ]
  },
  {
   "cell_type": "code",
   "execution_count": null,
   "id": "2d765a28",
   "metadata": {},
   "outputs": [],
   "source": [
    "# TODO: Write your code for Part 4 here\n"
   ]
  },
  {
   "cell_type": "markdown",
   "id": "ff648220",
   "metadata": {},
   "source": [
    "## Part 5: Creative Extension\n",
    "\n",
    "Add one additional calculation or analysis of your choice. Some ideas:\n",
    "\n",
    "- Daily spending breakdown\n",
    "- What percentage each expense category represents  \n",
    "- Using the modulo operator (%) for something interesting\n",
    "- Investment projections\n",
    "- Comparison between different budget scenarios\n",
    "\n",
    "Be creative! This is your chance to explore and apply the concepts in your own way."
   ]
  },
  {
   "cell_type": "code",
   "execution_count": null,
   "id": "a508cea1",
   "metadata": {},
   "outputs": [],
   "source": [
    "# TODO: Write your code for Part 5 here\n"
   ]
  },
  {
   "cell_type": "markdown",
   "id": "2ff0d645",
   "metadata": {},
   "source": [
    "## 🎉 Reflection\n",
    "\n",
    "After completing your budget calculator, think about:\n",
    "\n",
    "1. Which math operators were most useful for your calculations?\n",
    "2. How did using descriptive variable names help you write and understand your code?\n",
    "3. What surprised you about the impact of small changes on long-term savings?\n",
    "4. What other real-world problems could you solve with these programming fundamentals?\n",
    "\n",
    "Write your reflections below:"
   ]
  },
  {
   "cell_type": "markdown",
   "id": "55ed8d7c",
   "metadata": {},
   "source": [
    "### My Reflections:\n",
    "\n",
    "*(Write your thoughts here)*\n"
   ]
  }
 ],
 "metadata": {
  "language_info": {
   "name": "python"
  }
 },
 "nbformat": 4,
 "nbformat_minor": 5
}
